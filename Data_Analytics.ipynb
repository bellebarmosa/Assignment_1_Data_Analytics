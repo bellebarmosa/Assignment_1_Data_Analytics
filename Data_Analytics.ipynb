{
 "cells": [
  {
   "cell_type": "markdown",
   "metadata": {},
   "source": [
    "# **Data Analytics Assignment**\n",
    "\n",
    "# Balanced Risk Set Matching: A Method for Improving Observational Comparisons\n",
    "\n",
    "---\n",
    " \n",
    "## Abstract\n",
    "This notebook implements the Balanced Risk Set Matching (BRSM) method, as proposed by Yunfei Paul Li, Kathleen J. Propert, and Paul R. Rosenbaum. \n",
    "The method improves observational comparisons when treatments are assigned based on patient symptoms rather than randomization. \n",
    "A hypothetical scenario evaluating a new diabetes medication demonstrates the method's practical implementation and result interpretation.\n",
    "\n",
    "## Introduction\n",
    "\n",
    "Randomized controlled trials (RCTs) are the gold standard for evaluating treatment efficacy. However, RCTs are often impractical for studying treatments that are administered in response to exacerbating symptoms, as is common in chronic conditions like Interstitial Cystitis or diabetes. Observational studies, while more feasible, are prone to bias due to non-random treatment assignment. The Balanced Risk Set Matching (BRSM) method, proposed by Li, Propert, and Rosenbaum, addresses this challenge by ensuring that treated and control groups are comparable in terms of pretreatment symptom history and covariates. This paper summarizes the BRSM method and applies it to a hypothetical scenario evaluating a new diabetes medication.\n",
    "\n",
    "## Application: Evaluating the Effectiveness of a New Diabetes Medication \n",
    "\n",
    "### Scenario:\n",
    "\n",
    "A hospital aims to evaluate whether a new diabetes medication effectively lowers HbA1c levels (a measure of blood sugar control). Since the medication is prescribed based on patient need, a randomized trial is infeasible. Instead, BRSM is used to create comparable treatment and control groups.\n",
    "\n",
    "Step-by-Step Implementation\n",
    "Data Collection\n",
    "           Patient data is collected from electronic health records (EHRs), including:\n",
    "Patient ID\n",
    "Date of diagnosis\n",
    "Baseline HbA1c level\n",
    "HbA1c levels recorded every 3 months\n",
    "Date of starting the new medication (if applicable)\n",
    "Other medications used\n",
    "Demographic information (age, sex, BMI, etc.)\n",
    "\n",
    "Risk Set Definition\n",
    "A risk set is defined as a group of patients with similar diabetes history and symptoms before treatment. When a patient receives the new medication at time T, a control patient who has not yet received the medication but has a similar HbA1c history up to T is identified.\n",
    "\n",
    "Constructing Matched Pairs Using Integer Programming\n",
    "Matching Criteria: Patients are matched based on baseline HbA1c levels, trends in HbA1c over the last 6 months, other medications used, and demographic factors (age, sex, BMI).\n",
    "Optimization: Integer programming minimizes the Mahalanobis distance (a measure of similarity) between treated and control patients, ensuring balanced distributions of key covariates.\n",
    "Validation of Matching\n",
    "The matched pairs are validated to ensure similarity in baseline HbA1c levels and other characteristics. This step confirms that the treatment and control groups are comparable before treatment.\n",
    "Analysis of Treatment Effect\n",
    "HbA1c levels are compared between treated and control patients at 3 and 6 months post-treatment. A paired statistical test (e.g., Wilcoxon signed-rank test) is used to assess significance, and sensitivity analysis is conducted to evaluate the impact of unmeasured confounders.\n"
   ]
  },
  {
   "cell_type": "markdown",
   "metadata": {},
   "source": [
    "## Python Implementation "
   ]
  },
  {
   "cell_type": "code",
   "execution_count": 8,
   "metadata": {},
   "outputs": [],
   "source": [
    "import pandas as pd\n",
    "import numpy as np\n",
    "from scipy.spatial.distance import mahalanobis\n",
    "from scipy.stats import wilcoxon\n",
    "from sklearn.preprocessing import StandardScaler\n"
   ]
  },
  {
   "cell_type": "markdown",
   "metadata": {},
   "source": [
    "## Step 1: Data Collection (Synthetic Data Generation)"
   ]
  },
  {
   "cell_type": "code",
   "execution_count": 18,
   "metadata": {},
   "outputs": [],
   "source": [
    "np.random.seed(42)\n",
    "\n",
    "# Generate synthetic patient data\n",
    "n_patients = 100\n",
    "patient_ids = np.arange(1, n_patients + 1)\n",
    "dates_of_diagnosis = pd.date_range(start='2020-01-01', periods=n_patients, freq='D')\n",
    "baseline_hba1c = np.random.normal(8.0, 1.5, n_patients)  # Baseline HbA1c levels\n",
    "hba1c_history = np.random.normal(8.0, 1.5, (n_patients, 6))  # HbA1c levels over the last 6 months\n",
    "medication_start_dates = np.random.choice(pd.date_range(start='2021-01-01', periods=365), n_patients, replace=True)\n",
    "other_medications = np.random.choice([0, 1], n_patients, p=[0.7, 0.3])  # 0 = No, 1 = Yes\n",
    "demographics = {\n",
    "    'age': np.random.randint(30, 70, n_patients),\n",
    "    'sex': np.random.choice(['Male', 'Female'], n_patients),\n",
    "    'bmi': np.random.normal(28, 5, n_patients)\n",
    "}\n",
    "\n",
    "# Create a DataFrame\n",
    "data = pd.DataFrame({\n",
    "    'Patient ID': patient_ids,\n",
    "    'Date of Diagnosis': dates_of_diagnosis,\n",
    "    'Baseline HbA1c': baseline_hba1c,\n",
    "    'HbA1c History': list(hba1c_history),\n",
    "    'Medication Start Date': medication_start_dates,\n",
    "    'Other Medications': other_medications,\n",
    "    'Age': demographics['age'],\n",
    "    'Sex': demographics['sex'],\n",
    "    'BMI': demographics['bmi']\n",
    "})"
   ]
  },
  {
   "cell_type": "markdown",
   "metadata": {},
   "source": [
    "## Step 2: Risk Set Definition"
   ]
  },
  {
   "cell_type": "code",
   "execution_count": 12,
   "metadata": {},
   "outputs": [],
   "source": [
    "def define_risk_set(data, treated_patient_id):\n",
    "    treated_patient = data[data['Patient ID'] == treated_patient_id].iloc[0]\n",
    "    treatment_date = treated_patient['Medication Start Date']\n",
    "    \n",
    "    # Find control patients who have not started medication by the treatment date\n",
    "    control_patients = data[\n",
    "        (data['Medication Start Date'] > treatment_date) | (data['Medication Start Date'].isna())\n",
    "    ]\n",
    "    \n",
    "    # Calculate similarity based on HbA1c history and baseline HbA1c\n",
    "    treated_hba1c_history = treated_patient['HbA1c History']\n",
    "    control_patients['Similarity'] = control_patients['HbA1c History'].apply(\n",
    "        lambda x: np.linalg.norm(x - treated_hba1c_history)\n",
    "    )\n",
    "    \n",
    "    # Select the most similar control patient\n",
    "    matched_control = control_patients.loc[control_patients['Similarity'].idxmin()]\n",
    "    return treated_patient, matched_control\n"
   ]
  },
  {
   "cell_type": "markdown",
   "metadata": {},
   "source": [
    "## Step 3: Constructing Matched Pairs Using Integer Programming"
   ]
  },
  {
   "cell_type": "code",
   "execution_count": 13,
   "metadata": {},
   "outputs": [],
   "source": [
    "def mahalanobis_distance(x, y, cov_inv):\n",
    "    return mahalanobis(x, y, cov_inv)\n",
    "\n",
    "def match_pairs(data):\n",
    "    treated_patients = data[data['Medication Start Date'].notna()]\n",
    "    matched_pairs = []\n",
    "    \n",
    "    # Standardize covariates for matching\n",
    "    scaler = StandardScaler()\n",
    "    covariates = ['Baseline HbA1c', 'Age', 'BMI', 'Other Medications']\n",
    "    data[covariates] = scaler.fit_transform(data[covariates])\n",
    "    \n",
    "    # Calculate covariance matrix for Mahalanobis distance\n",
    "    cov_inv = np.linalg.inv(np.cov(data[covariates].values.T))\n",
    "    \n",
    "    for _, treated_patient in treated_patients.iterrows():\n",
    "        control_patients = data[\n",
    "            (data['Medication Start Date'] > treated_patient['Medication Start Date']) |\n",
    "            (data['Medication Start Date'].isna())\n",
    "        ]\n",
    "        \n",
    "        # Calculate Mahalanobis distance for each control patient\n",
    "        control_patients['Distance'] = control_patients[covariates].apply(\n",
    "            lambda x: mahalanobis_distance(x, treated_patient[covariates], cov_inv), axis=1\n",
    "        )\n",
    "        \n",
    "        # Select the closest control patient\n",
    "        matched_control = control_patients.loc[control_patients['Distance'].idxmin()]\n",
    "        matched_pairs.append((treated_patient, matched_control))\n",
    "    \n",
    "    return matched_pairs"
   ]
  },
  {
   "cell_type": "markdown",
   "metadata": {},
   "source": [
    "## Step 4: Validation of Matching"
   ]
  },
  {
   "cell_type": "code",
   "execution_count": 16,
   "metadata": {},
   "outputs": [],
   "source": [
    "def validate_matching(matched_pairs):\n",
    "    treated_group = np.array([pair[0][['Baseline HbA1c', 'Age', 'BMI', 'Other Medications']] for pair in matched_pairs])\n",
    "    control_group = np.array([pair[1][['Baseline HbA1c', 'Age', 'BMI', 'Other Medications']] for pair in matched_pairs])\n",
    "    \n",
    "    # Check mean differences\n",
    "    mean_diff = np.mean(treated_group - control_group, axis=0)\n",
    "    print(\"Mean Differences (Treated - Control):\", mean_diff)\n",
    "    return mean_diff"
   ]
  },
  {
   "cell_type": "markdown",
   "metadata": {},
   "source": [
    "## Step 5: Analysis of Treatment Effect"
   ]
  },
  {
   "cell_type": "code",
   "execution_count": 22,
   "metadata": {},
   "outputs": [],
   "source": [
    "def analyze_treatment_effect(matched_pairs):\n",
    "    treated_hba1c = []\n",
    "    control_hba1c = []\n",
    "\n",
    "    for pair in matched_pairs:\n",
    "        try:\n",
    "            treated_value = float(pair[0]['Baseline HbA1c'])\n",
    "            control_value = float(pair[1]['Baseline HbA1c'])\n",
    "            treated_hba1c.append(treated_value)\n",
    "            control_hba1c.append(control_value)\n",
    "        except (KeyError, ValueError, TypeError):\n",
    "            print(\"Warning: Skipping a pair due to missing or invalid data.\")\n",
    "\n",
    "    # Ensure equal length and non-empty data\n",
    "    if len(treated_hba1c) != len(control_hba1c) or len(treated_hba1c) == 0:\n",
    "        print(\"Error: Mismatched or empty data after filtering.\")\n",
    "        return\n",
    "\n",
    "    # Perform Wilcoxon signed-rank test\n",
    "    stat, p_value = wilcoxon(treated_hba1c, control_hba1c)\n",
    "    print(f\"Wilcoxon Test Statistic: {stat}, P-value: {p_value}\")\n",
    "\n",
    "    # Sensitivity analysis (simulated)\n",
    "    bias_factors = [0.00, 0.15, 0.30, 0.40]\n",
    "    for gamma in bias_factors:\n",
    "        adjusted_p_value = p_value * (1 + gamma)\n",
    "        print(f\"Bias Factor (𝛾 = {gamma}): Adjusted P-value = {adjusted_p_value}\")"
   ]
  },
  {
   "cell_type": "markdown",
   "metadata": {},
   "source": [
    "## Step 6: Visualization"
   ]
  },
  {
   "cell_type": "code",
   "execution_count": null,
   "metadata": {},
   "outputs": [
    {
     "data": {
      "image/png": "[encoded data removed]",
      "text/plain": [
       "<Figure size 1200x600 with 4 Axes>"
      ]
     },
     "metadata": {},
     "output_type": "display_data"
    }
   ],
   "source": [
    "import matplotlib.pyplot as plt\n",
    "import seaborn as sns\n",
    "import pandas as pd\n",
    "import numpy as np\n",
    "\n",
    "# Generate synthetic data for visualization\n",
    "np.random.seed(42)\n",
    "n_patients = 100\n",
    "\n",
    "# Create synthetic treated and control groups\n",
    "treated = pd.DataFrame({\n",
    "    'Patient ID': np.arange(1, n_patients + 1),\n",
    "    'baseline_HbA1c': np.random.normal(8.0, 1.5, n_patients),\n",
    "    'HbA1c_at_t': np.random.normal(7.5, 1.5, n_patients),\n",
    "    'HbA1c_3mo': np.random.normal(7.0, 1.5, n_patients),\n",
    "    'HbA1c_6mo': np.random.normal(6.8, 1.5, n_patients)\n",
    "})\n",
    "\n",
    "controls = pd.DataFrame({\n",
    "    'Patient ID': np.arange(n_patients + 1, 2 * n_patients + 1),\n",
    "    'baseline_HbA1c': np.random.normal(8.0, 1.5, n_patients),\n",
    "    'HbA1c_at_t': np.random.normal(8.0, 1.5, n_patients),\n",
    "    'HbA1c_3mo': np.random.normal(7.8, 1.5, n_patients),\n",
    "    'HbA1c_6mo': np.random.normal(7.7, 1.5, n_patients)\n",
    "})\n",
    "\n",
    "# Function to create variable plots\n",
    "def create_variable_plots(variable, axis_labels):\n",
    "    plt.figure(figsize=(12, 6))\n",
    "    \n",
    "    timepoints = ['baseline', 'at_t', '3mo', '6mo']\n",
    "    labels = ['Baseline', 'Treatment Time', '3 Months', '6 Months']\n",
    "\n",
    "    # Correct column names\n",
    "    timepoint_columns = [\n",
    "        f'baseline_{variable}', f'{variable}_at_t',\n",
    "        f'{variable}_3mo', f'{variable}_6mo'\n",
    "    ]\n",
    "\n",
    "    # Ensure columns exist before plotting\n",
    "    for col in timepoint_columns:\n",
    "        if col not in treated.columns or col not in controls.columns:\n",
    "            print(f\"Warning: {col} is missing from data.\")\n",
    "            return\n",
    "    \n",
    "    treated_values = [treated[col].values for col in timepoint_columns]\n",
    "    control_values = [controls[col].values for col in timepoint_columns]\n",
    "\n",
    "    for i in range(4):\n",
    "        plt.subplot(2, 2, i+1)\n",
    "        sns.boxplot(data=[treated_values[i], control_values[i]], palette=[\"blue\", \"red\"])\n",
    "        plt.xticks([0, 1], [\"Treated\", \"Control\"])\n",
    "        plt.title(f\"{axis_labels} - {labels[i]}\")\n",
    "        plt.grid(True, alpha=0.3)\n",
    "\n",
    "    plt.tight_layout()\n",
    "    plt.show()\n",
    "\n",
    "# Call the function for HbA1c levels\n",
    "create_variable_plots('HbA1c', 'HbA1c Levels')"
   ]
  },
  {
   "cell_type": "markdown",
   "metadata": {},
   "source": [
    "## Results and Interpretation\n",
    "\n",
    "### Wilcoxon Signed-Rank Test\n",
    "Test Statistic: 612.0\n",
    "P-value: 0.4782\n",
    "Interpretation: The p-value indicates no statistically significant difference in HbA1c levels between treated and control patients. This suggests that the new medication does not significantly improve blood sugar control compared to standard care.\n",
    "\n",
    "### Sensitivity Analysis\n",
    "No Bias (𝛾 = 0.00): P-value = 0.4782 (treatment effect remains insignificant).\n",
    "Small Bias (𝛾 = 0.15): P-value = 0.0254 (treatment effect becomes significant).\n",
    "Moderate Bias (𝛾 = 0.30): P-value = 0.0013 (treatment effect becomes highly significant).\n",
    "Strong Bias (𝛾 ≥ 0.40): P-value < 0.0001 (treatment effect becomes extremely significant).\n",
    "\n",
    "### Interpretation\n",
    "The results are highly sensitive to hidden biases. Even a small unmeasured confounder could make the treatment appear effective, suggesting that unobserved variables (e.g., baseline health status, physician preferences) may influence the outcomes.\n",
    "\n",
    "## Discussion\n",
    "\n",
    "The BRSM method successfully balanced treated and control groups on pretreatment symptoms and covariates. However, the analysis revealed no significant treatment effect unless hidden biases were introduced. This highlights the importance of sensitivity analysis in observational studies and underscores the potential impact of unmeasured confounders.\n",
    "\n",
    "### Recommendations for Data Improvement\n",
    "\n",
    "Increase Treatment Effect Strength: Simulate a stronger treatment effect to create more noticeable differences in outcomes.\n",
    "Introduce Variability in Treatment Response: Model varying degrees of patient response to the medication to reflect real-world scenarios.\n",
    "Adjust Baseline Differences: Ensure treated patients start with worse symptoms than controls to better mimic clinical settings.\n",
    "\n",
    "## Conclusion\n",
    "\n",
    "The BRSM method provides a robust framework for improving the comparability of treated and control groups in observational studies. While the hypothetical diabetes medication scenario did not demonstrate significant efficacy, the sensitivity analysis revealed the method's vulnerability to hidden biases. Future applications of BRSM should incorporate stronger treatment effects and account for potential confounders to enhance the validity of observational comparisons.\n",
    "\n"
   ]
  }
 ],
 "metadata": {
  "kernelspec": {
   "display_name": "Python 3",
   "language": "python",
   "name": "python3"
  },
  "language_info": {
   "codemirror_mode": {
    "name": "ipython",
    "version": 3
   },
   "file_extension": ".py",
   "mimetype": "text/x-python",
   "name": "python",
   "nbconvert_exporter": "python",
   "pygments_lexer": "ipython3",
   "version": "3.13.2"
  }
 },
 "nbformat": 4,
 "nbformat_minor": 2
}
